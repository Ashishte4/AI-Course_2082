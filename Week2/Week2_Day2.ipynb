{
  "nbformat": 4,
  "nbformat_minor": 0,
  "metadata": {
    "colab": {
      "provenance": []
    },
    "kernelspec": {
      "name": "python3",
      "display_name": "Python 3"
    },
    "language_info": {
      "name": "python"
    }
  },
  "cells": [
    {
      "cell_type": "markdown",
      "source": [
        "#**Hands On Exercise practice:-Linear Algebra for AI**\n"
      ],
      "metadata": {
        "id": "X407NW_RtoVi"
      }
    },
    {
      "cell_type": "markdown",
      "source": [
        "**Exercise 1:-Working with Scaler and Vectors**"
      ],
      "metadata": {
        "id": "UZi-NoYkynb2"
      }
    },
    {
      "cell_type": "code",
      "execution_count": 2,
      "metadata": {
        "colab": {
          "base_uri": "https://localhost:8080/"
        },
        "id": "NeZLKXxGbesX",
        "outputId": "250f828e-6099-406d-c29f-57a86a6e47ad"
      },
      "outputs": [
        {
          "output_type": "stream",
          "name": "stdout",
          "text": [
            "9\n",
            "[ 3  6  8 45 19]\n",
            "[ 27  54  72 405 171]\n",
            "Vector 1: [4 7]\n",
            "Vector 2: [1 3]\n",
            "Addition (vector1 + vector2): [ 5 10]\n",
            "Subtraction (vector1 - vector2): [3 4]\n"
          ]
        }
      ],
      "source": [
        "import numpy as np\n",
        "\n",
        "scaler = 9\n",
        "print(scaler)\n",
        "\n",
        "vector = np.array([3,6,8,45,19])\n",
        "print(vector)\n",
        "\n",
        "scaled_vector = vector * scaler\n",
        "print(scaled_vector)\n",
        "\n",
        "#creating 2 vectors and doing addition and subtraction\n",
        "\n",
        "import numpy as np\n",
        "\n",
        "# Creating two vectors\n",
        "vector1 = np.array([4, 7])\n",
        "vector2 = np.array([1, 3])\n",
        "\n",
        "# Vector Addition\n",
        "addition = vector1 + vector2\n",
        "\n",
        "# Vector Subtraction\n",
        "subtraction = vector1 - vector2\n",
        "\n",
        "# Displaying the results\n",
        "# print(\"Vector 1:\", vector1)\n",
        "# print(\"Vector 2:\", vector2)\n",
        "print(\"Addition (vector1 + vector2):\", addition)\n",
        "print(\"Subtraction (vector1 - vector2):\", subtraction)\n"
      ]
    },
    {
      "cell_type": "markdown",
      "source": [
        "#**MATRIX CREATION AND SIMPLE OPERATION**"
      ],
      "metadata": {
        "id": "LJdDII670zn4"
      }
    },
    {
      "cell_type": "code",
      "source": [
        "matrix1 = np.array([[1, 2], [4, 5]])\n",
        "matrix2 = np.array([[5, 6], [7, 8]])\n",
        "\n",
        "add = matrix1+matrix2\n",
        "print(add)\n",
        "\n",
        "subtraction = matrix1 - matrix2\n",
        "print(subtraction)\n",
        "\n",
        "multiplication = matrix1 * matrix2\n",
        "print(multiplication)\n",
        "\n",
        "matmul = np.dot(matrix1,matrix2)\n",
        "print(matmul)\n"
      ],
      "metadata": {
        "colab": {
          "base_uri": "https://localhost:8080/"
        },
        "id": "9TSv2KlC1Cje",
        "outputId": "2ac322c9-bfd1-4526-c09a-d3489a14a575"
      },
      "execution_count": 6,
      "outputs": [
        {
          "output_type": "stream",
          "name": "stdout",
          "text": [
            "[[ 6  8]\n",
            " [11 13]]\n",
            "[[-4 -4]\n",
            " [-3 -3]]\n",
            "[[ 5 12]\n",
            " [28 40]]\n",
            "[[19 22]\n",
            " [55 64]]\n"
          ]
        }
      ]
    },
    {
      "cell_type": "markdown",
      "source": [
        "###**Multiplication in manual**"
      ],
      "metadata": {
        "id": "3aTHvzVF7lfp"
      }
    },
    {
      "cell_type": "code",
      "source": [
        "import numpy as np\n",
        "\n",
        "A = np.array([[1,2],\n",
        "              [3,4]])\n",
        "B = np.array([[5,6],\n",
        "              [7,8]])\n",
        "\n",
        "index_A = A[0,0] * B[0,0] + A[0,1] * B[1,0]\n",
        "index_B = A[0,0] * B[0,1] + A[0,1] * B[1,1]  # fixed here\n",
        "index_C = A[1,0] * B[0,0] + A[1,1] * B[1,0]\n",
        "index_D = A[1,0] * B[0,1] + A[1,1] * B[1,1]\n",
        "\n",
        "print(index_A)  # 19\n",
        "print(index_B)  # 22\n",
        "print(index_C)  # 43\n",
        "print(index_D)  # 50\n",
        "\n",
        "matmal = np.dot(A, B)\n",
        "print(matmal)\n"
      ],
      "metadata": {
        "colab": {
          "base_uri": "https://localhost:8080/"
        },
        "id": "p3bnrAYp7zwQ",
        "outputId": "b295ffd2-3c9f-4b01-ffb2-875d71c5bba5"
      },
      "execution_count": 11,
      "outputs": [
        {
          "output_type": "stream",
          "name": "stdout",
          "text": [
            "19\n",
            "22\n",
            "43\n",
            "50\n",
            "[[19 22]\n",
            " [43 50]]\n"
          ]
        }
      ]
    }
  ]
}