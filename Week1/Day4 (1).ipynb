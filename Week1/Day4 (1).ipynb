{
  "nbformat": 4,
  "nbformat_minor": 0,
  "metadata": {
    "colab": {
      "provenance": []
    },
    "kernelspec": {
      "name": "python3",
      "display_name": "Python 3"
    },
    "language_info": {
      "name": "python"
    }
  },
  "cells": [
    {
      "cell_type": "markdown",
      "source": [
        "#**FILE HANDLING AND EXCEPTION**"
      ],
      "metadata": {
        "id": "qp5ZHdMQ4KdB"
      }
    },
    {
      "cell_type": "markdown",
      "source": [
        "#**OPENING AND REDING A FILE**"
      ],
      "metadata": {
        "id": "JO7vyK-r4UhK"
      }
    },
    {
      "cell_type": "code",
      "source": [
        "f = open(\"file.txt\",\"r\")\n",
        "print(f.read())\n",
        "f.close()"
      ],
      "metadata": {
        "colab": {
          "base_uri": "https://localhost:8080/"
        },
        "collapsed": true,
        "id": "aFKBMZCp4eoY",
        "outputId": "2eb1bd5d-7d1b-4143-ad5e-1771ba157237"
      },
      "execution_count": null,
      "outputs": [
        {
          "output_type": "stream",
          "name": "stdout",
          "text": [
            "\"my name is ashish\"\n",
            "I am a student.\n",
            "I like to read.\n"
          ]
        }
      ]
    },
    {
      "cell_type": "code",
      "source": [
        "f=open(\"file.txt\",\"r\")\n",
        "print(f.readline())\n"
      ],
      "metadata": {
        "colab": {
          "base_uri": "https://localhost:8080/"
        },
        "id": "9zQq_P9w6DK5",
        "outputId": "c24e150e-0d2d-4a81-f6e6-bfb188cba4a9"
      },
      "execution_count": null,
      "outputs": [
        {
          "output_type": "stream",
          "name": "stdout",
          "text": [
            "\"my name is ashish\"\n",
            "\n"
          ]
        }
      ]
    },
    {
      "cell_type": "code",
      "execution_count": null,
      "metadata": {
        "colab": {
          "base_uri": "https://localhost:8080/"
        },
        "id": "azPlifGz35th",
        "outputId": "95fdd467-92e5-470b-a6d2-4b7f7cb45d3d"
      },
      "outputs": [
        {
          "output_type": "stream",
          "name": "stdout",
          "text": [
            "\"my name is ashish\"\n",
            "I am a student.\n",
            "I like to read.\n"
          ]
        }
      ],
      "source": [
        "f=open(\"file.txt\",\"r\")\n",
        "print(f.read())\n",
        "f.close()"
      ]
    },
    {
      "cell_type": "markdown",
      "source": [
        "##**WriteMode**"
      ],
      "metadata": {
        "id": "X7aoFZQi618I"
      }
    },
    {
      "cell_type": "code",
      "source": [
        "f=open(\"file.txt\",\"w\")\n",
        "f.write(\"I like to explore!\")\n",
        "f.close()"
      ],
      "metadata": {
        "id": "DDAMDYyf65Mn"
      },
      "execution_count": null,
      "outputs": []
    },
    {
      "cell_type": "markdown",
      "source": [
        "##**APPEND MODE**"
      ],
      "metadata": {
        "id": "ADonxO6L7fE5"
      }
    },
    {
      "cell_type": "code",
      "source": [
        "f=open(\"file.txt\",\"a\")\n",
        "f.write(\"\\n I have to Append!\")\n",
        "f.close()"
      ],
      "metadata": {
        "id": "eqaWHu6h7j40"
      },
      "execution_count": null,
      "outputs": []
    },
    {
      "cell_type": "markdown",
      "source": [
        "##**DELETE**"
      ],
      "metadata": {
        "id": "24eFvZ5K8C03"
      }
    },
    {
      "cell_type": "code",
      "source": [
        "import os\n",
        "os.remove(\"file.txt\")# to remove the file\n"
      ],
      "metadata": {
        "id": "FQWpyRs87Ol0"
      },
      "execution_count": null,
      "outputs": []
    },
    {
      "cell_type": "code",
      "source": [
        "os.rmdir(\"/content/delete\")#to delete the folder . This is the Path -->(\"/content/delete\")"
      ],
      "metadata": {
        "id": "qzEaNUiA8Wei"
      },
      "execution_count": null,
      "outputs": []
    },
    {
      "cell_type": "markdown",
      "source": [
        "##**CLASSWORK**\n",
        "\n"
      ],
      "metadata": {
        "id": "7gmGGtVa9Ghj"
      }
    },
    {
      "cell_type": "markdown",
      "source": [
        "Write a Python program to read the contents of a text file named data. txt and print\n",
        "each line to the console. Handle the case where the file does not exist using a try-except\n",
        "block."
      ],
      "metadata": {
        "id": "nd18GH4L-G9o"
      }
    },
    {
      "cell_type": "code",
      "source": [
        "try:\n",
        "    # Try to open the file\n",
        "    file = open(\"data.txt\", \"r\")\n",
        "\n",
        "    # Read and print each line\n",
        "    for line in file:\n",
        "        print(line.strip())  # .strip() removes any extra space or newlines\n",
        "\n",
        "    file.close()  # Don't forget to close the file and it close the files or use \"with\".\n",
        "\n",
        "except FileNotFoundError:\n",
        "    # This block runs if the file doesnot  exist\n",
        "    print(\"Oops! The file 'data.txt' was not found.\")"
      ],
      "metadata": {
        "colab": {
          "base_uri": "https://localhost:8080/"
        },
        "id": "-kLyQ8yS-INz",
        "outputId": "d0ce6f33-5281-4143-ae58-493c153f2aa6"
      },
      "execution_count": null,
      "outputs": [
        {
          "output_type": "stream",
          "name": "stdout",
          "text": [
            "Oops! The file 'data.txt' was not found.\n"
          ]
        }
      ]
    },
    {
      "cell_type": "markdown",
      "source": [
        "Create a Python program that prompts the user to enter their name and saves it to a\n",
        "file called user. txt. Include exception handling to manage potential errors during file\n",
        "writing."
      ],
      "metadata": {
        "id": "eGRbWdPp-bkf"
      }
    },
    {
      "cell_type": "code",
      "source": [
        "try:\n",
        "    # Prompt the user to enter their name\n",
        "    name = input(\"Enter your name: \")\n",
        "\n",
        "    # Try to open the file and write the name\n",
        "    with open(\"user.txt\", \"w\") as file:\n",
        "        file.write(name)\n",
        "    print(\"Your name has been saved to 'user.txt'.\")\n",
        "\n",
        "except FileNotFoundError:\n",
        "    print(\"Error: The file path does not exist.\")\n",
        "\n",
        "except IOError:\n",
        "    print(\"Error: Something went wrong while writing to the file.\")\n",
        "\n",
        "except Exception as e:\n",
        "    print(f\"An unexpected error occurred: {e}\")\n"
      ],
      "metadata": {
        "colab": {
          "base_uri": "https://localhost:8080/"
        },
        "id": "wmWABjqH-htD",
        "outputId": "d634bd83-e47e-462f-9d64-64eae7b3494e"
      },
      "execution_count": null,
      "outputs": [
        {
          "output_type": "stream",
          "name": "stdout",
          "text": [
            "Enter your name: ashish\n",
            "Your name has been saved to 'user.txt'.\n"
          ]
        }
      ]
    },
    {
      "cell_type": "markdown",
      "source": [
        "Write a Python program to read a text file named story . txt and count the number of\n",
        "words in it. Handle the case where the file is missing. Assume words are separated by\n",
        "spaces."
      ],
      "metadata": {
        "id": "DzaGqQr4-9Ad"
      }
    },
    {
      "cell_type": "code",
      "source": [
        "try:\n",
        "    with open(\"story.txt\", \"r\") as file:\n",
        "        content = file.read()\n",
        "        words = content.split()  # Split by spaces\n",
        "        word_count = len(words)\n",
        "        print(\"Number of words in 'story.txt':\", word_count)\n",
        "except FileNotFoundError:\n",
        "    print(\"Error; 'story.txt' file not found.\")\n"
      ],
      "metadata": {
        "colab": {
          "base_uri": "https://localhost:8080/"
        },
        "id": "mZlSKiY7_BqL",
        "outputId": "53bb8fac-217b-494a-8e53-0145a5325ebb"
      },
      "execution_count": null,
      "outputs": [
        {
          "output_type": "stream",
          "name": "stdout",
          "text": [
            "Error; 'story.txt' file not found.\n"
          ]
        }
      ]
    },
    {
      "cell_type": "markdown",
      "source": [
        "Write a Python program that asks the user for a line of text and appends it to an\n",
        "existing file named notes . txt. If the file doesn't exist, create it. Use exception handling\n",
        "to manage errors."
      ],
      "metadata": {
        "id": "B6aFHufa_bdi"
      }
    },
    {
      "cell_type": "code",
      "source": [
        "try:\n",
        "    # Ask the user for a line of text\n",
        "    user_input = input(\"Enter a line of text to add to notes.txt: \")\n",
        "\n",
        "    # Try opening/creating the file and appending the text\n",
        "    with open(\"notes.txt\", \"a\") as file:\n",
        "        file.write(user_input + \"\\n\")\n",
        "    print(\"Text successfully added to notes.txt.\")\n",
        "\n",
        "except Exception as e:\n",
        "    # Catch any unexpected errors\n",
        "    print(\"An error occurred:\", \"e\")\n"
      ],
      "metadata": {
        "colab": {
          "base_uri": "https://localhost:8080/"
        },
        "id": "sIRtOc9B_dRP",
        "outputId": "70f5e6d1-2652-4685-e2b0-f6f852a0de21"
      },
      "execution_count": null,
      "outputs": [
        {
          "output_type": "stream",
          "name": "stdout",
          "text": [
            "Enter a line of text to add to notes.txt: I like to to read Books\n",
            "Text successfully added to notes.txt.\n"
          ]
        }
      ]
    },
    {
      "cell_type": "markdown",
      "source": [
        "##**BASIC EXCEPTION HANDELING**"
      ],
      "metadata": {
        "id": "gNBC86NUECY_"
      }
    },
    {
      "cell_type": "code",
      "source": [
        "a=6\n",
        "print(a)"
      ],
      "metadata": {
        "colab": {
          "base_uri": "https://localhost:8080/"
        },
        "id": "uVhr1uA7EZ7e",
        "outputId": "e6ad1d65-90d7-4fc8-880c-f06dfa363e7c"
      },
      "execution_count": null,
      "outputs": [
        {
          "output_type": "stream",
          "name": "stdout",
          "text": [
            "6\n"
          ]
        }
      ]
    },
    {
      "cell_type": "code",
      "source": [
        "\n",
        "try:\n",
        " print(a)\n",
        "except:\n",
        "    print(\"Something went wrong\")"
      ],
      "metadata": {
        "colab": {
          "base_uri": "https://localhost:8080/"
        },
        "id": "oNq6ePZiEI59",
        "outputId": "0bf3d2d2-c0d4-4834-dffe-c6b88ba8c6d2"
      },
      "execution_count": null,
      "outputs": [
        {
          "output_type": "stream",
          "name": "stdout",
          "text": [
            "6\n"
          ]
        }
      ]
    }
  ]
}