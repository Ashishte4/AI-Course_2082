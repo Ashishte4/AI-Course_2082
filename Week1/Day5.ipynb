{
  "nbformat": 4,
  "nbformat_minor": 0,
  "metadata": {
    "colab": {
      "provenance": []
    },
    "kernelspec": {
      "name": "python3",
      "display_name": "Python 3"
    },
    "language_info": {
      "name": "python"
    }
  },
  "cells": [
    {
      "cell_type": "markdown",
      "source": [
        "##**NUMPY BASICS**\n"
      ],
      "metadata": {
        "id": "HJoFdRnZ4R_W"
      }
    },
    {
      "cell_type": "markdown",
      "source": [
        "#**CREATING A NUMPY ARRAY AND ITS ATTRIBUTES**"
      ],
      "metadata": {
        "id": "-emJIcRi4Zq6"
      }
    },
    {
      "cell_type": "code",
      "source": [
        "#importing numpy library\n",
        "import numpy as np\n",
        "#creating a list\n",
        "my_list = [1,2,3,4,5]\n",
        "#changing the list into a numpy array\n",
        "my_array = np.array(my_list)\n",
        "#printing the 1-D numpy array\n",
        "print(my_array)\n",
        "\n",
        "#creating a 0-D numpy array\n",
        "zero_array = np.array(42)\n",
        "#printing the array\n",
        "print(zero_array)\n",
        "\n",
        "#Instead of creeating a list on a seperate variable we ban direct pass it to .array()function like this:\n",
        "my_array = np.array([1,2,3,4,5])\n",
        "#printing the 1-D numpy array\n",
        "print(my_array)\n",
        "\n",
        "#lets create a 2-D array!\n",
        "two_d_array = np.array([[1,2,3],[4,5,6]])\n",
        "#printing the 2-D array\n",
        "print(two_d_array)\n",
        "\n",
        "#lets create a 3-D array now!\n",
        "three_d_array = np.array([[[1,2,3],[4,5,6]],[[7,8,9],[10,11,12]]])\n",
        "#printing the 3-D array\n",
        "print(three_d_array)"
      ],
      "metadata": {
        "colab": {
          "base_uri": "https://localhost:8080/"
        },
        "id": "TdYOgjE54guk",
        "outputId": "4786b0a5-c675-41da-e625-a9b0c1654fe7"
      },
      "execution_count": null,
      "outputs": [
        {
          "output_type": "stream",
          "name": "stdout",
          "text": [
            "[1 2 3 4 5]\n",
            "42\n",
            "[1 2 3 4 5]\n",
            "[[1 2 3]\n",
            " [4 5 6]]\n",
            "[[[ 1  2  3]\n",
            "  [ 4  5  6]]\n",
            "\n",
            " [[ 7  8  9]\n",
            "  [10 11 12]]]\n"
          ]
        }
      ]
    },
    {
      "cell_type": "code",
      "source": [
        "#lets create an array and see its attributes!\n",
        "my_array = np.array([[1,2,3],[4,5,6]])\n",
        "#printing the array\n",
        "print(my_array) #printing the array\n",
        "print(my_array.shape) #printing the shape of the array\n",
        "print(my_array.ndim) #printing the demension of the array\n",
        "print(my_array.dtype) #printning the type of the array\n",
        "print(my_array.size) #printing the size of the array"
      ],
      "metadata": {
        "colab": {
          "base_uri": "https://localhost:8080/"
        },
        "id": "qGXceD_47JFq",
        "outputId": "b7037a47-01f4-4d33-b1fc-47b23d8a2c1c"
      },
      "execution_count": null,
      "outputs": [
        {
          "output_type": "stream",
          "name": "stdout",
          "text": [
            "[[1 2 3]\n",
            " [4 5 6]]\n",
            "(2, 3)\n",
            "2\n",
            "int64\n",
            "6\n"
          ]
        }
      ]
    },
    {
      "cell_type": "code",
      "source": [],
      "metadata": {
        "id": "Wza50iU68g8r"
      },
      "execution_count": null,
      "outputs": []
    },
    {
      "cell_type": "markdown",
      "source": [
        "##**ACCESING AND MANIPULATIONG ARRAY ELEMENTS**"
      ],
      "metadata": {
        "id": "0du4r01_9AAu"
      }
    },
    {
      "cell_type": "code",
      "source": [
        "#lets create a 1-D array and print one of its elements\n",
        "one_arr = np.array([1,2,3,4,5,6])\n",
        "print(one_arr[4])\n",
        "\n",
        "#Lets print using  negative indexing\n",
        "print(one_arr[-3])"
      ],
      "metadata": {
        "colab": {
          "base_uri": "https://localhost:8080/"
        },
        "id": "Eyai2EDz9Im8",
        "outputId": "54a3af44-2b7d-45c1-96e0-b9c156f21e6b"
      },
      "execution_count": null,
      "outputs": [
        {
          "output_type": "stream",
          "name": "stdout",
          "text": [
            "5\n",
            "4\n"
          ]
        }
      ]
    },
    {
      "cell_type": "code",
      "source": [
        "#Lets code for a 2-D array\n",
        "two_arr = np.array([[1,2,3],[4,5,6]])\n",
        "print(two_arr[0,2])"
      ],
      "metadata": {
        "colab": {
          "base_uri": "https://localhost:8080/"
        },
        "id": "uGMZWJSJ9nJP",
        "outputId": "c5cf48f9-f3e1-4f9d-96b2-7517e6b264b2"
      },
      "execution_count": null,
      "outputs": [
        {
          "output_type": "stream",
          "name": "stdout",
          "text": [
            "3\n"
          ]
        }
      ]
    },
    {
      "cell_type": "code",
      "source": [
        "#Lets move to a 3-D array\n",
        "three_arr = np.array([[[1,2,3],[4,5,6]],[[7,8,9],[10,11,12]]])\n",
        "print(three_arr[1,1,2])\n",
        "\n",
        "#negative indexing\n",
        "three_arr = np.array([[[1,2,3],[4,5,6]],[[7,8,9],[10,11,12]]])\n",
        "print(three_arr[1,1,-2])\n",
        "\n"
      ],
      "metadata": {
        "colab": {
          "base_uri": "https://localhost:8080/"
        },
        "id": "S7Zqw08E-XA_",
        "outputId": "80d73801-4176-4dc6-8579-9a0a4f0c5da6"
      },
      "execution_count": null,
      "outputs": [
        {
          "output_type": "stream",
          "name": "stdout",
          "text": [
            "12\n",
            "11\n"
          ]
        }
      ]
    },
    {
      "cell_type": "markdown",
      "source": [
        "##**SLICING ARRAYS**"
      ],
      "metadata": {
        "id": "F0fjlfpyBaGq"
      }
    },
    {
      "cell_type": "markdown",
      "source": [
        "##**Some Important Slicing Concepts**\n",
        "array[start:end]\n",
        "\n",
        "array[start:end:steps]\n"
      ],
      "metadata": {
        "id": "qFbFukLfBenA"
      }
    },
    {
      "cell_type": "code",
      "source": [
        "#slicing array form 0th index to 8th index\n",
        "my_array = np.array([1,2,3,4,5,6,7,8,9,10])\n",
        "print(my_array[0:8])#array[start:end]"
      ],
      "metadata": {
        "colab": {
          "base_uri": "https://localhost:8080/"
        },
        "id": "XH-xSFC1B6ap",
        "outputId": "1e7047a5-1c18-40e8-d9de-1573c0c4bd75"
      },
      "execution_count": null,
      "outputs": [
        {
          "output_type": "stream",
          "name": "stdout",
          "text": [
            "[1 2 3 4 5 6 7 8]\n"
          ]
        }
      ]
    },
    {
      "cell_type": "code",
      "source": [
        "#Slicing with steps\n",
        "\n",
        "my_new_array = np.array([1,2,3,4,5,6,7,8,9,10])\n",
        "print(my_new_array[0:9:2])#array[start:end:steps]"
      ],
      "metadata": {
        "colab": {
          "base_uri": "https://localhost:8080/"
        },
        "id": "g-BsVIbkCg1s",
        "outputId": "411ffec3-8de6-4f15-d060-00072c63aba1"
      },
      "execution_count": null,
      "outputs": [
        {
          "output_type": "stream",
          "name": "stdout",
          "text": [
            "[1 3 5 7 9]\n"
          ]
        }
      ]
    },
    {
      "cell_type": "code",
      "source": [
        "#Slicing on a 2-D array\n",
        "my_two_d = np.array([[1,2,3,4,5,6,7,8,9],[11,10,12,13,14,15,16,17,18]])\n",
        "print(my_two_d[0,3:6])"
      ],
      "metadata": {
        "colab": {
          "base_uri": "https://localhost:8080/"
        },
        "id": "7VeyhkqyD1kD",
        "outputId": "5dbebf8c-ac6e-4737-972c-e802076f0fe0"
      },
      "execution_count": null,
      "outputs": [
        {
          "output_type": "stream",
          "name": "stdout",
          "text": [
            "[4 5 6]\n"
          ]
        }
      ]
    },
    {
      "cell_type": "markdown",
      "source": [
        "##**HOMEWORK**\n",
        "\n",
        "SLICING ON A 3-D ARRAY"
      ],
      "metadata": {
        "id": "4UIfrvWZF3vN"
      }
    },
    {
      "cell_type": "code",
      "source": [
        "#Slicing on a 3-D Array\n",
        "\n",
        "import numpy as np\n",
        "\n",
        "my_3d = np.array([\n",
        "    [[1,2,3,4],[5,6,7,8]],\n",
        "    [[9,10,11,12],[13,14,15,16]]\n",
        "])\n",
        "\n",
        "# Slicing: Get second and third elements from row 0 in the first layer\n",
        "print(my_3d[0, 0, 1:3])  # Output: [2 3]\n",
        "\n",
        "# Slicing: Get first rows from both layers\n",
        "print(my_3d[:, 0, :])  # Output: [[1 2 3 4], [9 10 11 12]]\n"
      ],
      "metadata": {
        "id": "3UaFuwtTGBR1",
        "colab": {
          "base_uri": "https://localhost:8080/"
        },
        "outputId": "d4b11bcd-6568-4d12-95fb-8bcaf551197d"
      },
      "execution_count": 60,
      "outputs": [
        {
          "output_type": "stream",
          "name": "stdout",
          "text": [
            "[2 3]\n",
            "[[ 1  2  3  4]\n",
            " [ 9 10 11 12]]\n"
          ]
        }
      ]
    },
    {
      "cell_type": "markdown",
      "source": [
        "##**Class Work**\n"
      ],
      "metadata": {
        "id": "jfAMUqAyFn9y"
      }
    },
    {
      "cell_type": "code",
      "source": [
        "#1. Create a NumPy array from the list [7, 14, 21, 281]. Print the array.\n",
        "\n",
        "import numpy as np\n",
        "#creating a list\n",
        "my_list = [1,2,3,4,5]\n",
        "#changing the list into a numpy array\n",
        "my_array = np.array(my_list)\n",
        "print(my_array)\n",
        "\n",
        "\n",
        "#2.Create a 2D NumPy array [[5, 10, 15], [20, 25, 30]]. Print its shape and number of dimensions using array. ndim.\n",
        "\n",
        "import numpy as np\n",
        "\n",
        "my_array = np.array([[5,10,15],[20,25,26]])\n",
        "print(my_array.shape)\n",
        "print(my_array.ndim)\n",
        "\n",
        "\n",
        "#3.Use np. zeros to create a 2D array of shape (2, 3). Then, use np. arange to create an array from 0 to 12 with a step of 3. Print both arrays.\n",
        "\n",
        "import numpy as np\n",
        "\n",
        "# Create a 2D array of shape (2, 3) filled with zeros\n",
        "array_zeros = np.zeros((2, 3))\n",
        "\n",
        "# Create an array from 0 to 12 with a step of 3\n",
        "array_arange = np.arange(0, 13, 3)\n",
        "\n",
        "# Print both arrays\n",
        "print(\"2D array of zeros (shape 2x3):\")\n",
        "print(array_zeros)\n",
        "\n",
        "print(\"\\nArray from 0 to 12 with step 3:\")\n",
        "print(array_arange)\n",
        "\n",
        "\n",
        "#4.Create a NumPy array [2, 4, 6, 8]. Multiply all elements by 3 and print the result.\n",
        "\n",
        "import numpy as np\n",
        "\n",
        "     # Create the NumPy array\n",
        "arr = np.array([2, 4, 6, 81])\n",
        "\n",
        "     # Multiply all elements by 3\n",
        "result = arr * 3\n",
        "\n",
        "     # Print the result\n",
        "print(result)\n",
        "\n",
        "\n",
        "#5.Create a NumPy array [1, 3, 5, 7, 9, 11]. Print the third element and a slice from index 1 to 3 (inclusive).\n",
        "\n",
        "import numpy as np\n",
        "\n",
        "arr = np.array([1, 3, 5, 7, 9, 11])\n",
        "\n",
        "     # Print the third element\n",
        "print(\"Third element:\", arr[2])\n",
        "\n",
        "     # Print a slice from index 1 to 3 (inclusive)\n",
        "print(\"Slice from index 1 to 3:\", arr[1:3])\n",
        "\n",
        "\n",
        "\n",
        "\n"
      ],
      "metadata": {
        "colab": {
          "base_uri": "https://localhost:8080/"
        },
        "id": "a7JlPe_NGgpP",
        "outputId": "80da00d3-7cb6-49d7-e1e4-d4a78c175e15"
      },
      "execution_count": 58,
      "outputs": [
        {
          "output_type": "stream",
          "name": "stdout",
          "text": [
            "[1 2 3 4 5]\n",
            "(2, 3)\n",
            "2\n",
            "2D array of zeros (shape 2x3):\n",
            "[[0. 0. 0.]\n",
            " [0. 0. 0.]]\n",
            "\n",
            "Array from 0 to 12 with step 3:\n",
            "[ 0  3  6  9 12]\n",
            "[  6  12  18 243]\n",
            "Third element: 5\n",
            "Slice from index 1 to 3: [3 5]\n"
          ]
        }
      ]
    }
  ]
}