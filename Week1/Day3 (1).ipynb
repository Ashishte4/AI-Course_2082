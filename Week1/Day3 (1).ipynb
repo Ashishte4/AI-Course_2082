{
  "nbformat": 4,
  "nbformat_minor": 0,
  "metadata": {
    "colab": {
      "provenance": []
    },
    "kernelspec": {
      "name": "python3",
      "display_name": "Python 3"
    },
    "language_info": {
      "name": "python"
    }
  },
  "cells": [
    {
      "cell_type": "markdown",
      "source": [
        "#**STRING MANUPULATION IN PYTHON**"
      ],
      "metadata": {
        "id": "gvFQiQzB-sfE"
      }
    },
    {
      "cell_type": "code",
      "source": [
        "from typing import Text\n",
        "#creating a variable mamed text which contains lwading and trailing spaces\n",
        "text=\"    Hello Python   \"\n",
        "print(text)\n",
        "#using .lower() method/funciton ito introduce lowercase\n",
        "print(text.lower())\n",
        "\n",
        "#\n",
        "print(text.strip())\n",
        "\n",
        "#\n",
        "\n",
        "print(text.replace(\"PYTHON\",\"JAVA\"))\n",
        "\n",
        "#SPLITTING AND JOINING\n",
        "\n",
        "splitted=text.strip().split()\n",
        "print(splitted)\n",
        "\n",
        "#using .join()method to join the separeted words\n",
        "joined='-'.join(splitted)\n",
        "print(joined)\n",
        "\n"
      ],
      "metadata": {
        "colab": {
          "base_uri": "https://localhost:8080/"
        },
        "id": "tO2zUMYmALki",
        "outputId": "a25f59cf-3558-4a27-95e4-678a628b3872"
      },
      "execution_count": null,
      "outputs": [
        {
          "output_type": "stream",
          "name": "stdout",
          "text": [
            "    Hello Python   \n",
            "    hello python   \n",
            "Hello Python\n",
            "    Hello Python   \n",
            "['Hello', 'Python']\n",
            "Hello-Python\n"
          ]
        }
      ]
    },
    {
      "cell_type": "markdown",
      "source": [
        "#**MODULAR PROGRAMMING IN PYTHON**"
      ],
      "metadata": {
        "id": "wTAseTTUClpM"
      }
    },
    {
      "cell_type": "code",
      "source": [
        "import math\n",
        "square_root=math.sqrt(25)\n",
        "print(\"the square root of 25 is\",square_root)\n",
        "\n",
        "# In integer\n",
        "import math\n",
        "\n",
        "square_root = int(math.sqrt(25))\n",
        "print(\"The square root of 25 is\", square_root)\n",
        "\n",
        "#Flooring and ceiling\n",
        "floor=math.floor(4.8)\n",
        "print(floor)\n",
        "\n",
        "ceil=math.ceil(4.8)\n",
        "print(ceil)\n",
        "\n",
        "\n"
      ],
      "metadata": {
        "colab": {
          "base_uri": "https://localhost:8080/"
        },
        "id": "7YJpYuqICzuX",
        "outputId": "c41d34c4-4e5e-4f50-ed65-554c9a4200e2"
      },
      "execution_count": null,
      "outputs": [
        {
          "output_type": "stream",
          "name": "stdout",
          "text": [
            "the square root of 25 is 5.0\n",
            "The square root of 25 is 5\n",
            "4\n",
            "5\n"
          ]
        }
      ]
    },
    {
      "cell_type": "markdown",
      "source": [
        "#**MODULAR ALIASING**"
      ],
      "metadata": {
        "id": "NTGjc88fEJLg"
      }
    },
    {
      "cell_type": "code",
      "source": [
        "import matplotlib.pyplot as plt\n"
      ],
      "metadata": {
        "id": "AjJbAYpJEPKy"
      },
      "execution_count": null,
      "outputs": []
    },
    {
      "cell_type": "markdown",
      "source": [
        "##**VARIABLE ALISING**"
      ],
      "metadata": {
        "id": "5VsVH5F_EZ0d"
      }
    },
    {
      "cell_type": "code",
      "source": [],
      "metadata": {
        "id": "MRvKzmmpEjJ-"
      },
      "execution_count": null,
      "outputs": []
    },
    {
      "cell_type": "code",
      "source": [
        "from re import A\n",
        "a=[1,2,3]\n",
        "b=a\n",
        "b.append(4)\n",
        "print(b)\n",
        "print(a)\n",
        "\n",
        "#HOMEWORK: Function/Method Alising\n",
        "\n"
      ],
      "metadata": {
        "colab": {
          "base_uri": "https://localhost:8080/"
        },
        "id": "98VziZhZEkC7",
        "outputId": "5e79cdc6-8b24-47b7-c796-afa4b86e5521"
      },
      "execution_count": null,
      "outputs": [
        {
          "output_type": "stream",
          "name": "stdout",
          "text": [
            "[1, 2, 3, 4]\n",
            "[1, 2, 3, 4]\n"
          ]
        }
      ]
    },
    {
      "cell_type": "markdown",
      "source": [
        "#**RANDOMS IN PYTHON**"
      ],
      "metadata": {
        "id": "rlZBp9NqFRb6"
      }
    },
    {
      "cell_type": "code",
      "source": [
        "import random as rdn\n",
        "print(rdn.randint(1,10))\n",
        "\n",
        "#floating\n",
        "\n",
        "random_float=rdn.random()\n",
        "print(random_float)\n",
        "\n",
        "#random floating in range\n",
        "\n",
        "random_floating_in_range=rdn.uniform(10.5,99.5)\n",
        "print(random_floating_in_range)\n",
        "\n",
        "#Explore more module/function"
      ],
      "metadata": {
        "colab": {
          "base_uri": "https://localhost:8080/"
        },
        "id": "Szhlt092FZWE",
        "outputId": "535cf426-484b-4036-c033-c43a295cab6c"
      },
      "execution_count": null,
      "outputs": [
        {
          "output_type": "stream",
          "name": "stdout",
          "text": [
            "9\n",
            "0.8559914361039984\n",
            "42.71573824581889\n"
          ]
        }
      ]
    },
    {
      "cell_type": "markdown",
      "source": [
        "##**CREATING CUSTOM MODULES IN PYTHON**"
      ],
      "metadata": {
        "id": "uaAX8cxkG4bW"
      }
    },
    {
      "cell_type": "code",
      "source": [
        "#HELPER.PY\n",
        "%%writefile helper123.py\n",
        "def add_numbers(a,b):\n",
        " return a+b\n",
        "\n"
      ],
      "metadata": {
        "colab": {
          "base_uri": "https://localhost:8080/"
        },
        "id": "gnRIGjCNG_bm",
        "outputId": "01fcfe83-9cbe-4864-a2eb-c5c2775a997b"
      },
      "execution_count": null,
      "outputs": [
        {
          "output_type": "stream",
          "name": "stdout",
          "text": [
            "Overwriting helper123.py\n"
          ]
        }
      ]
    },
    {
      "cell_type": "markdown",
      "source": [],
      "metadata": {
        "id": "8rqDkQebCkuh"
      }
    },
    {
      "cell_type": "code",
      "execution_count": null,
      "metadata": {
        "colab": {
          "base_uri": "https://localhost:8080/"
        },
        "id": "xG3z2sic8v4M",
        "outputId": "9426d286-6c76-48b8-8c17-10e85554eeb3"
      },
      "outputs": [
        {
          "output_type": "stream",
          "name": "stdout",
          "text": [
            "9\n"
          ]
        }
      ],
      "source": [
        "#main.py\n",
        "import helper123\n",
        "result=helper123.add_numbers(5,4)\n",
        "print(result)"
      ]
    },
    {
      "cell_type": "code",
      "source": [],
      "metadata": {
        "id": "lwsVLg_fHqnd"
      },
      "execution_count": null,
      "outputs": []
    },
    {
      "cell_type": "markdown",
      "source": [
        "#**Assignment**\n",
        "\n"
      ],
      "metadata": {
        "id": "CnOp2_y6X8QK"
      }
    },
    {
      "cell_type": "markdown",
      "source": [
        "##**Import math and calculate sine of 30 degrees using math.sin(math.radians(30)).**"
      ],
      "metadata": {
        "id": "X4tQkSoEZOD_"
      }
    },
    {
      "cell_type": "code",
      "source": [
        "import math\n",
        "\n",
        "# Calculate sine of 30 degrees\n",
        "sine_value = math.sin(math.radians(30))\n",
        "print(\"Sine of 30 degrees is:\", sine_value)\n"
      ],
      "metadata": {
        "colab": {
          "base_uri": "https://localhost:8080/"
        },
        "id": "bU8p3TZRZdAf",
        "outputId": "71d58889-6071-490b-d695-05cd62a1b8c1"
      },
      "execution_count": 1,
      "outputs": [
        {
          "output_type": "stream",
          "name": "stdout",
          "text": [
            "Sine of 30 degrees is: 0.49999999999999994\n"
          ]
        }
      ]
    },
    {
      "cell_type": "markdown",
      "source": [
        "##**Import random as rng and generate a random integer between 50-75.**"
      ],
      "metadata": {
        "id": "-GiYMahXZjdC"
      }
    },
    {
      "cell_type": "code",
      "source": [
        "import random as rng\n",
        "\n",
        "# Generate a random number between 50 and 75\n",
        "random_number = rng.randint(50, 75)\n",
        "print(\"Random number between 50 and 75 is:\", random_number)\n"
      ],
      "metadata": {
        "colab": {
          "base_uri": "https://localhost:8080/"
        },
        "id": "xA8XLxIXZrx0",
        "outputId": "9bd088eb-f2c1-4a44-b71d-fc2beff761ef"
      },
      "execution_count": 2,
      "outputs": [
        {
          "output_type": "stream",
          "name": "stdout",
          "text": [
            "Random number between 50 and 75 is: 52\n"
          ]
        }
      ]
    },
    {
      "cell_type": "markdown",
      "source": [
        "##**Create calc.py with square function, import and print square of 8.**"
      ],
      "metadata": {
        "id": "okDNuixoZvQ4"
      }
    },
    {
      "cell_type": "code",
      "source": [
        "# calc.py\n",
        "%%writefile calc.py\n",
        "def square(x):\n",
        "    return x * x"
      ],
      "metadata": {
        "colab": {
          "base_uri": "https://localhost:8080/"
        },
        "id": "fbA-hByzZ5p4",
        "outputId": "63f9c464-af5d-47f0-fc34-cd40e66117f9"
      },
      "execution_count": 9,
      "outputs": [
        {
          "output_type": "stream",
          "name": "stdout",
          "text": [
            "Writing calc.py\n"
          ]
        }
      ]
    },
    {
      "cell_type": "code",
      "source": [
        "# main.py\n",
        "import calc  # this is importing calc.py\n",
        "\n",
        "# Call the square function\n",
        "result = calc.square(8)\n",
        "\n",
        "# Print the result\n",
        "print(\"Square of 8 is:\", result)\n"
      ],
      "metadata": {
        "colab": {
          "base_uri": "https://localhost:8080/"
        },
        "id": "pbrcChWmZ9cZ",
        "outputId": "44c17e42-bc4d-40ba-e6a0-ba6c2ccd7f5e"
      },
      "execution_count": 10,
      "outputs": [
        {
          "output_type": "stream",
          "name": "stdout",
          "text": [
            "Square of 8 is: 64\n"
          ]
        }
      ]
    },
    {
      "cell_type": "markdown",
      "source": [
        "##**Import choice from random, pick from fruits list [\"Mango\", \"Apple\", \"Grape\"].**"
      ],
      "metadata": {
        "id": "n0OhRY6kaeq3"
      }
    },
    {
      "cell_type": "code",
      "source": [
        "from random import choice\n",
        "\n",
        "# Fruits list\n",
        "fruits = [\"Mango\", \"Apple\", \"Grape\"]\n",
        "\n",
        "# Pick a random fruit\n",
        "selected_fruit = choice(fruits)\n",
        "print(\"Randomly selected fruit is:\", selected_fruit)\n"
      ],
      "metadata": {
        "colab": {
          "base_uri": "https://localhost:8080/"
        },
        "id": "D4b-tUCZakdM",
        "outputId": "aa9ad5e8-d327-49f2-f13f-2ca7201cf569"
      },
      "execution_count": 6,
      "outputs": [
        {
          "output_type": "stream",
          "name": "stdout",
          "text": [
            "Randomly selected fruit is: Mango\n"
          ]
        }
      ]
    }
  ]
}