{
  "nbformat": 4,
  "nbformat_minor": 0,
  "metadata": {
    "colab": {
      "provenance": []
    },
    "kernelspec": {
      "name": "python3",
      "display_name": "Python 3"
    },
    "language_info": {
      "name": "python"
    }
  },
  "cells": [
    {
      "cell_type": "markdown",
      "source": [
        "#**Probability Basics for Al**"
      ],
      "metadata": {
        "id": "culOR1pf_apS"
      }
    },
    {
      "cell_type": "markdown",
      "source": [
        "Exercise 1: Theoretical Probability"
      ],
      "metadata": {
        "id": "U8TczTciBwcG"
      }
    },
    {
      "cell_type": "code",
      "execution_count": 9,
      "metadata": {
        "colab": {
          "base_uri": "https://localhost:8080/"
        },
        "id": "qeI-2EvO9_kr",
        "outputId": "b4454337-08ae-4177-ce49-41470a5e7ea5"
      },
      "outputs": [
        {
          "output_type": "stream",
          "name": "stdout",
          "text": [
            "P(Heads): 0.5\n",
            "p(Tails): 0.5\n",
            "0.16666666666666666\n"
          ]
        }
      ],
      "source": [
        "# Probability of getting heads from a fair coin\n",
        "P_heads = 1 / 2\n",
        "print(\"P(Heads):\", P_heads)\n",
        "\n",
        "p_tails = 1/2\n",
        "print(\"p(Tails):\", p_tails)\n",
        "\n",
        "\n",
        "#Declarng a fac and total outcome for rollling 1 on a diece!\n",
        "outcome_needed = 1\n",
        "total_outcome = 6\n",
        "\n",
        "probability = outcome_needed / total_outcome\n",
        "print(probability)"
      ]
    },
    {
      "cell_type": "markdown",
      "source": [
        "EXPERIMENTAL PROBABILITY"
      ],
      "metadata": {
        "id": "-_2tbwJcDbG3"
      }
    },
    {
      "cell_type": "code",
      "source": [
        "import random\n",
        "trials = 100\n",
        "heads = 0\n",
        "\n",
        "for _ in range(trials):\n",
        "  if random.choice([\"Heads\",\"Tails\"]) == \"Heads\":\n",
        "    heads+= 1\n",
        "\n",
        "probability = heads/trials\n",
        "print(probability)\n"
      ],
      "metadata": {
        "colab": {
          "base_uri": "https://localhost:8080/"
        },
        "id": "rWQO5SlaDg22",
        "outputId": "72b1ca7a-f6b7-41b9-cf7d-ed5ec02db192"
      },
      "execution_count": 44,
      "outputs": [
        {
          "output_type": "stream",
          "name": "stdout",
          "text": [
            "0.43\n"
          ]
        }
      ]
    },
    {
      "cell_type": "markdown",
      "source": [
        "EXERCISE: 3 CONDITIONAL PROBABILITY"
      ],
      "metadata": {
        "id": "MvgVHCuyFx27"
      }
    },
    {
      "cell_type": "code",
      "source": [
        "face_cards = 12\n",
        "king = 4\n",
        "conditional_probability = king/face_cards\n",
        "print(\"The Probability of getting a king given it is a face card is\",conditional_probability)"
      ],
      "metadata": {
        "colab": {
          "base_uri": "https://localhost:8080/"
        },
        "id": "lc1MEwxFF5Wg",
        "outputId": "4309310c-06de-4518-85fa-24c15f17d013"
      },
      "execution_count": 45,
      "outputs": [
        {
          "output_type": "stream",
          "name": "stdout",
          "text": [
            "The Probability of getting a king given it is a face card is 0.3333333333333333\n"
          ]
        }
      ]
    },
    {
      "cell_type": "markdown",
      "source": [
        "EXERCISE 4: ADDITION RULE"
      ],
      "metadata": {
        "id": "Zgq5LNZ4Gg-I"
      }
    },
    {
      "cell_type": "code",
      "source": [
        "#Mutually exclusive events\n",
        "\n",
        "prob_even = 3/6\n",
        "prob_one = 1/6\n",
        "\n",
        "porb_even_or_one = prob_even + prob_one\n",
        "print(porb_even_or_one)"
      ],
      "metadata": {
        "colab": {
          "base_uri": "https://localhost:8080/"
        },
        "id": "YyPaux7JGnmI",
        "outputId": "9b5e1750-031e-4db8-dce3-c236228ff1b7"
      },
      "execution_count": 46,
      "outputs": [
        {
          "output_type": "stream",
          "name": "stdout",
          "text": [
            "0.6666666666666666\n"
          ]
        }
      ]
    },
    {
      "cell_type": "markdown",
      "source": [
        "EXERCISE 5: MULTIPLICATION RULE (INDEPENDENT EVENTS)"
      ],
      "metadata": {
        "id": "dpg-K3MJHfXS"
      }
    },
    {
      "cell_type": "code",
      "source": [
        "# Note!!!! For independent events, the probability of both occurring is the product of their probabilities.\n",
        "\n",
        "prob_head = 0.5\n",
        "prob_two_heads = prob_head * prob_head\n",
        "print(prob_two_heads)"
      ],
      "metadata": {
        "colab": {
          "base_uri": "https://localhost:8080/"
        },
        "id": "_MrEjS4MHpL2",
        "outputId": "ca7fee20-8f8a-4c79-c498-26ab0b51d6ca"
      },
      "execution_count": 47,
      "outputs": [
        {
          "output_type": "stream",
          "name": "stdout",
          "text": [
            "0.25\n"
          ]
        }
      ]
    },
    {
      "cell_type": "markdown",
      "source": [
        "Exercise 6: Dependent Events\n",
        "\n"
      ],
      "metadata": {
        "id": "tCvwskcLIEM9"
      }
    },
    {
      "cell_type": "code",
      "source": [
        "#Lets calculate th probability of drawing two aces without replacement form a deck of 52 cards\n",
        "\n",
        "total_cards = 52\n",
        "ace_cards = 4\n",
        "\n",
        "prob_first_ace = ace_cards / total_cards\n",
        "prob_second_ace = (ace_cards -1) / (total_cards - 1)\n",
        "prob_two_aces = prob_first_ace * prob_second_ace\n",
        "print(prob_two_aces)"
      ],
      "metadata": {
        "colab": {
          "base_uri": "https://localhost:8080/"
        },
        "id": "K4pmP54dIR3_",
        "outputId": "dba9c43c-ec15-46f9-ba6d-73cdc4f47f0f"
      },
      "execution_count": 48,
      "outputs": [
        {
          "output_type": "stream",
          "name": "stdout",
          "text": [
            "0.004524886877828055\n"
          ]
        }
      ]
    }
  ]
}