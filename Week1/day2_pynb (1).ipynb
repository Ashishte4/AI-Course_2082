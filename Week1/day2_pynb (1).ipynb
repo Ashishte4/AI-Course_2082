{
  "nbformat": 4,
  "nbformat_minor": 0,
  "metadata": {
    "colab": {
      "provenance": []
    },
    "kernelspec": {
      "name": "python3",
      "display_name": "Python 3"
    },
    "language_info": {
      "name": "python"
    }
  },
  "cells": [
    {
      "cell_type": "markdown",
      "source": [
        "\n",
        "#**Day 1 Coding**\n",
        "\n"
      ],
      "metadata": {
        "id": "pdPVXe0crydo"
      }
    },
    {
      "cell_type": "code",
      "execution_count": 1,
      "metadata": {
        "colab": {
          "base_uri": "https://localhost:8080/"
        },
        "id": "roc5kTOpqyFJ",
        "outputId": "a08b6a00-7d2d-4d49-9ec3-128031f098e7"
      },
      "outputs": [
        {
          "output_type": "stream",
          "name": "stdout",
          "text": [
            "This is my First day of Coding \n"
          ]
        }
      ],
      "source": [
        "print(\"This is my First day of Coding \")"
      ]
    },
    {
      "cell_type": "code",
      "source": [],
      "metadata": {
        "id": "GVaRNmnjsaqj"
      },
      "execution_count": null,
      "outputs": []
    },
    {
      "cell_type": "markdown",
      "source": [
        "#**LOOPS**"
      ],
      "metadata": {
        "id": "r1EzYwD6tw2t"
      }
    },
    {
      "cell_type": "code",
      "source": [
        "#Top 10 natural number ko ube\n",
        "\n",
        "for i in range(1,11):\n",
        "  print(i*i*i)"
      ],
      "metadata": {
        "colab": {
          "base_uri": "https://localhost:8080/"
        },
        "id": "cqEYDp1ct20g",
        "outputId": "a2c23dc8-66aa-4c0f-a1ba-dc0cc36718b7"
      },
      "execution_count": 4,
      "outputs": [
        {
          "output_type": "stream",
          "name": "stdout",
          "text": [
            "1\n",
            "8\n",
            "27\n",
            "64\n",
            "125\n",
            "216\n",
            "343\n",
            "512\n",
            "729\n",
            "1000\n"
          ]
        }
      ]
    },
    {
      "cell_type": "markdown",
      "source": [
        "#**Functions In Python**"
      ],
      "metadata": {
        "id": "jndXOqOBuszQ"
      }
    },
    {
      "cell_type": "code",
      "source": [
        "#Declaring function to calculate square of a number\n",
        "def calculate_square(length):\n",
        "  return length*length\n",
        "\n",
        "#Calling a function to print square of first square\n",
        "print(\"The area of first square is :\",calculate_square(6))\n",
        "print(\"The area of second square is :\",calculate_square(16))"
      ],
      "metadata": {
        "colab": {
          "base_uri": "https://localhost:8080/"
        },
        "id": "N0wWh6y6uHXO",
        "outputId": "a45b0a53-ab61-409e-d627-47058b5083bb"
      },
      "execution_count": 20,
      "outputs": [
        {
          "output_type": "stream",
          "name": "stdout",
          "text": [
            "The area of first square is : 36\n",
            "The area of second square is : 256\n"
          ]
        }
      ]
    },
    {
      "cell_type": "markdown",
      "source": [
        "#*List in Python**"
      ],
      "metadata": {
        "id": "qpJGuEC-wt5k"
      }
    },
    {
      "cell_type": "code",
      "source": [
        "#List\n",
        "fruits=[\"apples\",\"banana\",\"mango\",\"orange\",\"watermelon\"]\n",
        "print(fruits)\n",
        "\n",
        "#Accessing elements from the list\n",
        "# print(fruits[0]) #first index\n",
        "# print(fruits[-1])\n",
        "# print(fruits[4])\n",
        "# print(fruits[2])\n",
        "\n",
        "#Adding and removing elements from the list\n",
        "# fruits.append(\"orange\")\n",
        "# print(fruits)\n",
        "\n",
        "fruits.remove(\"mango\")\n",
        "print(fruits)\n",
        "\n",
        "\n",
        "\n"
      ],
      "metadata": {
        "colab": {
          "base_uri": "https://localhost:8080/"
        },
        "id": "3OO0aW8gvbxX",
        "outputId": "5848e5a0-0548-4ae8-90a0-566064e50917"
      },
      "execution_count": 24,
      "outputs": [
        {
          "output_type": "stream",
          "name": "stdout",
          "text": [
            "['apples', 'banana', 'mango', 'orange', 'watermelon']\n",
            "['apples', 'banana', 'orange', 'watermelon']\n"
          ]
        }
      ]
    },
    {
      "cell_type": "markdown",
      "source": [],
      "metadata": {
        "id": "_LdaOKumxIiR"
      }
    },
    {
      "cell_type": "markdown",
      "source": [
        "# **Sets and Tuples(Home-Research)**"
      ],
      "metadata": {
        "id": "7m9eSdd9ymsw"
      }
    },
    {
      "cell_type": "markdown",
      "source": [
        "#**Dictionary in python**"
      ],
      "metadata": {
        "id": "sjTDBYMlza5x"
      }
    },
    {
      "cell_type": "code",
      "source": [
        "student={\n",
        "    \"name\":\"ramu\",\n",
        "    \"class\":7,\n",
        "    \"gender\":\"Male\",\n",
        "\n",
        "    }\n",
        "#Accesing values from keys in a dictionary\n",
        "\n",
        "print(student[\"name\"])\n",
        "print(student[\"class\"])\n",
        "\n",
        "#Updating vlaues of a particular key in a dictionary\n",
        "\n",
        "student[\"gender\"]= \"female\"\n",
        "print (student)\n",
        "\n",
        "#Adding a new key value pair in existing dictionary\n",
        "\n",
        "student[\"roll_no\"]=10\n",
        "print (student)\n",
        "\n",
        "#Deleting a key value pair from a existing dictionary\n",
        "\n",
        "del student[\"class\"]\n",
        "print(student)"
      ],
      "metadata": {
        "colab": {
          "base_uri": "https://localhost:8080/"
        },
        "id": "FPVRr0EbyvQS",
        "outputId": "60c70908-7c0d-4cab-c24b-9e9d64857183"
      },
      "execution_count": 29,
      "outputs": [
        {
          "output_type": "stream",
          "name": "stdout",
          "text": [
            "ramu\n",
            "7\n",
            "{'name': 'ramu', 'class': 7, 'gender': 'female'}\n",
            "{'name': 'ramu', 'class': 7, 'gender': 'female', 'roll_no': 10}\n",
            "{'name': 'ramu', 'gender': 'female', 'roll_no': 10}\n"
          ]
        }
      ]
    }
  ]
}